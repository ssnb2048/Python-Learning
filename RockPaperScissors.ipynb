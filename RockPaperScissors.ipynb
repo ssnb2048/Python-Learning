{
 "cells": [
  {
   "cell_type": "code",
   "execution_count": null,
   "metadata": {},
   "outputs": [],
   "source": [
    "import random\n",
    "choices = ['rock','paper','scissors']\n",
    "value = random.randint(0,2)\n",
    "while True: \n",
    "    computerMove = choices[random.randint(0,2)]\n",
    "    playerMove = input(\"What's your move?(rock, paper, scissors, or exit): \")\n",
    "    if computerMove == \"paper\" and playerMove == \"rock\":\n",
    "        print(\"You lose.\")\n",
    "    if computerMove == \"paper\" and playerMove == \"scissors\":\n",
    "        print(\"You win.\")\n",
    "    if computerMove == \"scissors\" and playerMove == \"paper\":\n",
    "        print(\"You lose\")\n",
    "    if computerMove == \"scissors\" and playerMove == \"rock\":\n",
    "        print(\"You win\")\n",
    "    if computerMove == \"rock\" and playerMove == \"paper\":\n",
    "        print(\"You win.\")\n",
    "    if computerMove == \"rock\" and playerMove == \"scissors\":\n",
    "        print(\"You lose\")\n",
    "    if computerMove == playerMove:\n",
    "        print(\"It's a tie\")\n",
    "    if playerMove == \"exit\":\n",
    "        break\n"
   ]
  }
 ],
 "metadata": {
  "kernelspec": {
   "display_name": "Python 3",
   "language": "python",
   "name": "python3"
  },
  "language_info": {
   "codemirror_mode": {
    "name": "ipython",
    "version": 3
   },
   "file_extension": ".py",
   "mimetype": "text/x-python",
   "name": "python",
   "nbconvert_exporter": "python",
   "pygments_lexer": "ipython3",
   "version": "3.12.1"
  }
 },
 "nbformat": 4,
 "nbformat_minor": 2
}
