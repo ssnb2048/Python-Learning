{
 "cells": [
  {
   "cell_type": "code",
   "execution_count": null,
   "metadata": {},
   "outputs": [],
   "source": [
    "x = int(input(\"How many numbers are you going to enter?: \"))\n",
    "input_list = []\n",
    "for d in range(x):\n",
    "    f = int(input(\"Enter number: \"))\n",
    "    input_list.append(f)\n",
    "print(input_list)\n",
    "sorted_list = []\n",
    "for c in range(x):\n",
    "    smallest_number = input_list[0]\n",
    "    for a in input_list:\n",
    "        if (a < smallest_number):\n",
    "            smallest_number = a\n",
    "    sorted_list.append(smallest_number)\n",
    "    input_list.remove(smallest_number)\n",
    "print(sorted_list)\n"
   ]
  }
 ],
 "metadata": {
  "kernelspec": {
   "display_name": "Python 3",
   "language": "python",
   "name": "python3"
  },
  "language_info": {
   "codemirror_mode": {
    "name": "ipython",
    "version": 3
   },
   "file_extension": ".py",
   "mimetype": "text/x-python",
   "name": "python",
   "nbconvert_exporter": "python",
   "pygments_lexer": "ipython3",
   "version": "3.12.1"
  }
 },
 "nbformat": 4,
 "nbformat_minor": 2
}
