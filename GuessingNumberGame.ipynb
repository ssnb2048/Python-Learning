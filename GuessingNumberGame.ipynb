{
 "cells": [
  {
   "cell_type": "code",
   "execution_count": null,
   "metadata": {},
   "outputs": [],
   "source": [
    "while True:\n",
    "    import random\n",
    "    number = random.randint(1, 100)\n",
    "    print(\"Guess the number I am thinking from 1 through 100.\")\n",
    "    guessNumber = 0\n",
    "    GameOn = True\n",
    "    while (GameOn == True):\n",
    "        guess = int(input(\"Enter a guess: \"))\n",
    "        guessNumber+=1\n",
    "        if (number>guess):\n",
    "            print(\"Guess is too low!\")\n",
    "        elif (number<guess):\n",
    "            print(\"Guess is too high!\")\n",
    "        elif (number==guess):\n",
    "            print(\"You guessed my number\")\n",
    "            GameOn == False\n",
    "            print(\"You took\", guessNumber, \"guesses\")\n",
    "            break\n"
   ]
  }
 ],
 "metadata": {
  "kernelspec": {
   "display_name": "Python 3",
   "language": "python",
   "name": "python3"
  },
  "language_info": {
   "codemirror_mode": {
    "name": "ipython",
    "version": 3
   },
   "file_extension": ".py",
   "mimetype": "text/x-python",
   "name": "python",
   "nbconvert_exporter": "python",
   "pygments_lexer": "ipython3",
   "version": "3.12.1"
  }
 },
 "nbformat": 4,
 "nbformat_minor": 2
}
