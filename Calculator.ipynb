{
 "cells": [
  {
   "cell_type": "code",
   "execution_count": null,
   "metadata": {},
   "outputs": [],
   "source": [
    "def Division(s, b):\n",
    "    return s/b\n",
    "   \n",
    "def Multiplication(s, x):\n",
    "    return s * x\n",
    "   \n",
    "def Addition(a,p):\n",
    "    return a+p\n",
    "\n",
    "def Subtraction(s,m):\n",
    "    return s-m\n",
    "\n",
    "def Exponent(e, x):\n",
    "    return e**x\n"
   ]
  },
  {
   "cell_type": "code",
   "execution_count": null,
   "metadata": {},
   "outputs": [],
   "source": [
    "\n",
    "while(True):\n",
    "    print(\"Enter number to get  answer:\")\n",
    "   \n",
    "    num1 = int( input(\"Enter first number:\") )\n",
    "    num2 = int( input(\"Enter second number:\") )\n",
    "    A = Addition(num1, num2)\n",
    "    S = Subtraction(num1, num2)\n",
    "    M = Multiplication(num1, num2)\n",
    "    D = Division(num1, num2)\n",
    "    E = Exponent(num1, num2)\n",
    "    print(\"Addition is \", A)\n",
    "    print(\"Subtraction is \", S)\n",
    "    print(\"Multiplication is \", M)\n",
    "    print(\"Division is \", D)\n",
    "    print(\"Exponent is \", E)\n"
   ]
  }
 ],
 "metadata": {
  "kernelspec": {
   "display_name": "Python 3",
   "language": "python",
   "name": "python3"
  },
  "language_info": {
   "codemirror_mode": {
    "name": "ipython",
    "version": 3
   },
   "file_extension": ".py",
   "mimetype": "text/x-python",
   "name": "python",
   "nbconvert_exporter": "python",
   "pygments_lexer": "ipython3",
   "version": "3.12.1"
  }
 },
 "nbformat": 4,
 "nbformat_minor": 2
}
